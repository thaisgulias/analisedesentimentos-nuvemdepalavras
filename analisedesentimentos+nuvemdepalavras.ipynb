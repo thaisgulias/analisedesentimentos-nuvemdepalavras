{
  "nbformat": 4,
  "nbformat_minor": 0,
  "metadata": {
    "colab": {
      "provenance": [],
      "authorship_tag": "ABX9TyNdgU8CsaY+JOl3OJAEu//b"
    },
    "kernelspec": {
      "name": "python3",
      "display_name": "Python 3"
    },
    "language_info": {
      "name": "python"
    }
  },
  "cells": [
    {
      "cell_type": "code",
      "source": [
        "!pip install unidecode"
      ],
      "metadata": {
        "id": "pNslar-hluXR"
      },
      "execution_count": null,
      "outputs": []
    },
    {
      "cell_type": "code",
      "source": [
        "# Imports necessários\n",
        "import pandas as pd\n",
        "import numpy as np\n",
        "import re\n",
        "from textblob import TextBlob\n",
        "import matplotlib.pyplot as plt\n",
        "from sklearn.feature_extraction.text import CountVectorizer\n",
        "from sklearn.naive_bayes import MultinomialNB\n",
        "from wordcloud import WordCloud, STOPWORDS\n",
        "from PIL import Image\n",
        "from collections import Counter\n",
        "from unidecode import unidecode"
      ],
      "metadata": {
        "id": "4TMBLpieF1FW"
      },
      "execution_count": null,
      "outputs": []
    },
    {
      "cell_type": "code",
      "source": [
        "# Limpeza de texto\n",
        "stopwords = set(STOPWORDS)\n",
        "stopwords.update([\"palavras para remover\"])\n",
        "\n",
        "# Combine todos os comentários em uma única string\n",
        "text = ' '.join(df['comentario'])\n",
        "\n",
        "# Crie a nuvem de palavras\n",
        "wordcloud = WordCloud(stopwords=stopwords, background_color='white',\n",
        "                      width=800, height=600, max_words=200).generate(text)\n",
        "\n",
        "# Visualize a nuvem de palavras\n",
        "plt.figure(figsize=(10, 8))\n",
        "plt.imshow(wordcloud, interpolation='bilinear')\n",
        "plt.axis('off')\n",
        "plt.title('Word Cloud dos Comentários')\n",
        "plt.show()"
      ],
      "metadata": {
        "id": "BPjIuRSkHUhR"
      },
      "execution_count": null,
      "outputs": []
    },
    {
      "cell_type": "code",
      "source": [
        "# Suponhamos que 'df' seja o seu DataFrame e 'comentario' a coluna com os comentários\n",
        "filtered_df = df[df['comentario'].str.contains(r'\\b(não|Não)\\b', case=False, regex=True)]\n",
        "\n",
        "# Exibindo as frases completas filtradas\n",
        "for comment in filtered_df['comentario']:\n",
        "    print(comment)\n",
        "\n"
      ],
      "metadata": {
        "id": "CiTahnZCPHgz"
      },
      "execution_count": null,
      "outputs": []
    },
    {
      "cell_type": "code",
      "source": [
        "# Combine todos os comentários em uma única string\n",
        "text = ' '.join(df['comentario'])\n",
        "\n",
        "# Lista personalizada de stopwords\n",
        "custom_stopwords = ([\"palavras para remover\"])\n",
        "\n",
        "# Divida a string em palavras e remova as stopwords\n",
        "words = [word for word in text.split() if word.lower() not in custom_stopwords]\n",
        "\n",
        "# Conte a frequência de cada palavra após remover as stopwords\n",
        "word_freq = Counter(words)\n",
        "\n",
        "# Converta o dicionário de frequência em um DataFrame para facilitar a visualização\n",
        "word_freq_df = pd.DataFrame(list(word_freq.items()), columns=['Palavra', 'Frequência'])\n",
        "\n",
        "# Ordene o DataFrame pela frequência em ordem decrescente\n",
        "word_freq_df = word_freq_df.sort_values(by='Frequência', ascending=False)\n",
        "\n",
        "# Exiba as 10 palavras mais frequentes\n",
        "print(word_freq_df.head(10))\n",
        "\n",
        "# Visualize as 10 palavras mais frequentes em um gráfico de barras\n",
        "plt.figure(figsize=(10, 6))\n",
        "plt.bar(word_freq_df['Palavra'][:10], word_freq_df['Frequência'][:10], color='blue')\n",
        "plt.xlabel('Palavra')\n",
        "plt.ylabel('Frequência')\n",
        "plt.title('Top 10 Palavras Mais Frequentes (Sem Stopwords)')\n",
        "plt.xticks(rotation=45)\n",
        "plt.show()"
      ],
      "metadata": {
        "id": "4_TJbKGYJ23S"
      },
      "execution_count": null,
      "outputs": []
    },
    {
      "cell_type": "code",
      "source": [
        "def remove_accents(input_str):\n",
        "    return unidecode(input_str)\n",
        "\n",
        "def classify_comment(comment):\n",
        "    negative_keywords = [\"pessimo\", \"ruim\", \"erro\", \"bug\", \"reclamacao\", \"reclamam\", \"lento\", \"dificil\", \"melhorar\", \"erro\", \"aperfeicoar\", \"dificil\", \"melhoras\", \"necessita\", \"dificultou\", \"faltam\", \"não\"] #palavras que você deseja mapear como negativas\n",
        "    positive_keywords = [\"bom\", \"otimo\", \"eficiente\", \"boa\", \"excelente\", \"gosto\", \"flexibilidade\", \"acesso\", \"impecavel\", \"pratico\", \"ideal\", \"facil\", \"eficaz\", \"atenciosa\", \"praticidade\",\"rapido\"] #palavras que você deseja mapear como positivas\n",
        "\n",
        "\n",
        "    # Remover acentuação das palavras no comentário\n",
        "    words = [remove_accents(word.lower()) for word in comment.split()]\n",
        "\n",
        "    negative_count = sum(word in negative_keywords for word in words)\n",
        "    positive_count = sum(word in positive_keywords for word in words)\n",
        "\n",
        "    if negative_count > positive_count:\n",
        "        return 'Negativo'\n",
        "    elif negative_count < positive_count:\n",
        "        return 'Positivo'\n",
        "    else:\n",
        "        return 'Neutro'\n",
        "\n",
        "# Aplicar a função de classificação a cada comentário na coluna 'comentario' do DataFrame\n",
        "df['classificacao'] = df['comentario'].apply(classify_comment)\n",
        "\n",
        "# Mostrar os resultados\n",
        "print(df[['comentario', 'classificacao']])\n"
      ],
      "metadata": {
        "id": "7fC1yQZCNdMX"
      },
      "execution_count": null,
      "outputs": []
    },
    {
      "cell_type": "code",
      "source": [
        "# Contagem de cada classe\n",
        "class_counts = df['classificacao'].value_counts()\n",
        "\n",
        "# Criando o gráfico\n",
        "plt.figure(figsize=(8, 6))\n",
        "class_counts.plot(kind='bar', color=['#07AA8B', '#811AC0', '#CC4C1F'])\n",
        "\n",
        "# Título e rótulos dos eixos\n",
        "plt.title('Distribuição de Classificações de Comentários')\n",
        "plt.xlabel('Classificação')\n",
        "plt.ylabel('Número de Comentários')\n",
        "\n",
        "# Mostrar o gráfico\n",
        "plt.show()"
      ],
      "metadata": {
        "id": "__BUWX3_mxqN"
      },
      "execution_count": null,
      "outputs": []
    },
    {
      "cell_type": "code",
      "source": [
        "def remove_accents(input_str):\n",
        "    return unidecode(input_str)\n",
        "\n",
        "def classify_comment(comment):\n",
        "    negative_keywords = [\"preencher com palavras negativas como acima\"]\n",
        "    positive_keywords = [\"preencher com palavras positivas como acima\"]\n",
        "\n",
        "    words = [remove_accents(word.lower()) for word in comment.split()]\n",
        "\n",
        "    negative_count = sum(word in negative_keywords for word in words)\n",
        "    positive_count = sum(word in positive_keywords for word in words)\n",
        "\n",
        "    if negative_count > positive_count:\n",
        "        return 'Negativo'\n",
        "    elif negative_count < positive_count:\n",
        "        return 'Positivo'\n",
        "    else:\n",
        "        return 'Neutro'\n",
        "\n",
        "df['classificacao'] = df['comentario'].apply(classify_comment)\n",
        "\n",
        "def classify_nps(n):\n",
        "    if n >= 9:\n",
        "        return 'Promotor'\n",
        "    elif n <= 6:\n",
        "        return 'Detrator'\n",
        "    else:\n",
        "        return 'Neutro'\n",
        "\n",
        "df['Classificação NPS'] = df['nota'].apply(classify_nps)\n",
        "\n",
        "counts = df.groupby('Classificação NPS')['classificacao'].value_counts().unstack(fill_value=0)\n",
        "normalized_counts = counts.divide(counts.sum(axis=1), axis=0) * 100\n",
        "\n",
        "# Definir cores personalizadas\n",
        "cores = {'Negativo': '#CC4C1F', 'Neutro': '#07AA8B', 'Positivo': '#811AC0'}\n",
        "\n",
        "# Plotar o gráfico de barras empilhadas com cores personalizadas\n",
        "ax = normalized_counts.plot(kind='bar', stacked=True, figsize=(10, 6), color=[cores[col] for col in normalized_counts.columns])\n",
        "\n",
        "plt.title('Distribuição de Sentimentos por Categoria NPS (em %)')\n",
        "plt.xlabel('Categoria NPS')\n",
        "plt.ylabel('Porcentagem de Comentários')\n",
        "plt.xticks(rotation=0)\n",
        "plt.legend(title='Sentimento')\n",
        "\n",
        "# Adicionar porcentagens dentro das barras\n",
        "for p in ax.patches:\n",
        "    width, height = p.get_width(), p.get_height()\n",
        "    x, y = p.get_xy()\n",
        "    ax.text(x + width/2, y + height/2, f'{height:.1f}%', ha='center', va='center')\n",
        "\n",
        "\n",
        "plt.show()"
      ],
      "metadata": {
        "id": "U0ThkxuJTS4J"
      },
      "execution_count": null,
      "outputs": []
    }
  ]
}